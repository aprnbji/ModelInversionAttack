{
  "cells": [
    {
      "cell_type": "code",
      "execution_count": 19,
      "id": "226888a8",
      "metadata": {
        "execution": {
          "iopub.execute_input": "2022-09-15T21:42:24.639423Z",
          "iopub.status.busy": "2022-09-15T21:42:24.637981Z",
          "iopub.status.idle": "2022-09-15T21:42:37.481182Z",
          "shell.execute_reply": "2022-09-15T21:42:37.479781Z"
        },
        "papermill": {
          "duration": 12.854282,
          "end_time": "2022-09-15T21:42:37.484493",
          "exception": false,
          "start_time": "2022-09-15T21:42:24.630211",
          "status": "completed"
        },
        "tags": [],
        "id": "226888a8",
        "outputId": "6e07137d-59b7-417f-ca67-97c66880b63b",
        "colab": {
          "base_uri": "https://localhost:8080/"
        }
      },
      "outputs": [
        {
          "output_type": "stream",
          "name": "stdout",
          "text": [
            "Requirement already satisfied: torchsummary in /usr/local/lib/python3.11/dist-packages (1.5.1)\n",
            "Requirement already satisfied: transformers in /usr/local/lib/python3.11/dist-packages (4.52.4)\n",
            "Requirement already satisfied: filelock in /usr/local/lib/python3.11/dist-packages (from transformers) (3.18.0)\n",
            "Requirement already satisfied: huggingface-hub<1.0,>=0.30.0 in /usr/local/lib/python3.11/dist-packages (from transformers) (0.32.4)\n",
            "Requirement already satisfied: numpy>=1.17 in /usr/local/lib/python3.11/dist-packages (from transformers) (2.0.2)\n",
            "Requirement already satisfied: packaging>=20.0 in /usr/local/lib/python3.11/dist-packages (from transformers) (24.2)\n",
            "Requirement already satisfied: pyyaml>=5.1 in /usr/local/lib/python3.11/dist-packages (from transformers) (6.0.2)\n",
            "Requirement already satisfied: regex!=2019.12.17 in /usr/local/lib/python3.11/dist-packages (from transformers) (2024.11.6)\n",
            "Requirement already satisfied: requests in /usr/local/lib/python3.11/dist-packages (from transformers) (2.32.3)\n",
            "Requirement already satisfied: tokenizers<0.22,>=0.21 in /usr/local/lib/python3.11/dist-packages (from transformers) (0.21.1)\n",
            "Requirement already satisfied: safetensors>=0.4.3 in /usr/local/lib/python3.11/dist-packages (from transformers) (0.5.3)\n",
            "Requirement already satisfied: tqdm>=4.27 in /usr/local/lib/python3.11/dist-packages (from transformers) (4.67.1)\n",
            "Requirement already satisfied: fsspec>=2023.5.0 in /usr/local/lib/python3.11/dist-packages (from huggingface-hub<1.0,>=0.30.0->transformers) (2025.3.2)\n",
            "Requirement already satisfied: typing-extensions>=3.7.4.3 in /usr/local/lib/python3.11/dist-packages (from huggingface-hub<1.0,>=0.30.0->transformers) (4.14.0)\n",
            "Requirement already satisfied: hf-xet<2.0.0,>=1.1.2 in /usr/local/lib/python3.11/dist-packages (from huggingface-hub<1.0,>=0.30.0->transformers) (1.1.2)\n",
            "Requirement already satisfied: charset-normalizer<4,>=2 in /usr/local/lib/python3.11/dist-packages (from requests->transformers) (3.4.2)\n",
            "Requirement already satisfied: idna<4,>=2.5 in /usr/local/lib/python3.11/dist-packages (from requests->transformers) (3.10)\n",
            "Requirement already satisfied: urllib3<3,>=1.21.1 in /usr/local/lib/python3.11/dist-packages (from requests->transformers) (2.4.0)\n",
            "Requirement already satisfied: certifi>=2017.4.17 in /usr/local/lib/python3.11/dist-packages (from requests->transformers) (2025.4.26)\n"
          ]
        }
      ],
      "source": [
        "import numpy as np\n",
        "import requests\n",
        "import json\n",
        "from collections import namedtuple\n",
        "from PIL import Image\n",
        "import os\n",
        "\n",
        "import matplotlib.pyplot as plt\n",
        "from matplotlib.image import imread\n",
        "\n",
        "import tqdm\n",
        "import torch\n",
        "import torchvision.transforms as transforms\n",
        "from torchvision.datasets import EMNIST, MNIST\n",
        "from tqdm.notebook import tqdm, trange\n",
        "from torch.optim.lr_scheduler import StepLR\n",
        "from torch.utils.data import Dataset\n",
        "\n",
        "from transformers import AutoFeatureExtractor, ViTForImageClassification\n",
        "import torch.nn.functional as F\n",
        "\n",
        "! pip install torchsummary\n",
        "from torchsummary import summary\n",
        "\n",
        "! pip install transformers"
      ]
    },
    {
      "cell_type": "code",
      "source": [
        "import kagglehub\n",
        "\n",
        "path = kagglehub.dataset_download(\"kasikrit/att-database-of-faces\")\n",
        "print(\"Path to dataset files:\", path)\n"
      ],
      "metadata": {
        "colab": {
          "base_uri": "https://localhost:8080/"
        },
        "id": "B3lsIGGAn9eQ",
        "outputId": "db342e61-68e7-4a0a-cd38-548df04d9892"
      },
      "id": "B3lsIGGAn9eQ",
      "execution_count": 20,
      "outputs": [
        {
          "output_type": "stream",
          "name": "stdout",
          "text": [
            "Path to dataset files: /kaggle/input/att-database-of-faces\n"
          ]
        }
      ]
    },
    {
      "cell_type": "code",
      "execution_count": 21,
      "id": "4bf2e591",
      "metadata": {
        "execution": {
          "iopub.execute_input": "2022-09-15T21:42:37.513846Z",
          "iopub.status.busy": "2022-09-15T21:42:37.513010Z",
          "iopub.status.idle": "2022-09-15T21:43:01.006198Z",
          "shell.execute_reply": "2022-09-15T21:43:01.005202Z"
        },
        "papermill": {
          "duration": 23.503757,
          "end_time": "2022-09-15T21:43:01.008650",
          "exception": false,
          "start_time": "2022-09-15T21:42:37.504893",
          "status": "completed"
        },
        "tags": [],
        "id": "4bf2e591"
      },
      "outputs": [],
      "source": [
        "face_transform = transforms.Compose([\n",
        "    transforms.Resize((64, 64)),\n",
        "    transforms.ToTensor()\n",
        "])\n",
        "\n",
        "class ORLFacesDataset(Dataset):\n",
        "    def __init__(self, root_dir, transform=None, max_subjects=40, max_samples=None):\n",
        "        self.images = []\n",
        "        self.labels = []\n",
        "        self.transform = transform\n",
        "        sample_count = 0\n",
        "\n",
        "        for subject_id in range(1, max_subjects + 1):\n",
        "            subject_dir = os.path.join(root_dir, f\"s{subject_id}\")\n",
        "            if not os.path.isdir(subject_dir):\n",
        "                continue\n",
        "            for img_name in os.listdir(subject_dir):\n",
        "                if img_name.endswith(\".pgm\"):\n",
        "                    self.images.append(os.path.join(subject_dir, img_name))\n",
        "                    self.labels.append(subject_id - 1)\n",
        "                    sample_count += 1\n",
        "                    if max_samples and sample_count >= max_samples:\n",
        "                        break\n",
        "            if max_samples and sample_count >= max_samples:\n",
        "                break\n",
        "\n",
        "    def __len__(self):\n",
        "        return len(self.images)\n",
        "\n",
        "    def __getitem__(self, idx):\n",
        "        image = Image.open(self.images[idx]).convert(\"L\")\n",
        "        if self.transform:\n",
        "            image = self.transform(image)\n",
        "        label = self.labels[idx]\n",
        "        return image, label\n",
        "\n",
        "dataset_root = path\n",
        "\n",
        "attacker_dataset_train = ORLFacesDataset(\n",
        "    dataset_root, transform=face_transform, max_subjects=36, max_samples=10000\n",
        ")\n",
        "\n",
        "attacker_dataset_test = ORLFacesDataset(\n",
        "    dataset_root, transform=face_transform, max_subjects=36, max_samples=100\n",
        ")\n"
      ]
    },
    {
      "cell_type": "code",
      "execution_count": 22,
      "id": "6272ac07",
      "metadata": {
        "execution": {
          "iopub.execute_input": "2022-09-15T21:43:01.432185Z",
          "iopub.status.busy": "2022-09-15T21:43:01.431613Z",
          "iopub.status.idle": "2022-09-15T21:43:01.866060Z",
          "shell.execute_reply": "2022-09-15T21:43:01.865088Z"
        },
        "papermill": {
          "duration": 0.517704,
          "end_time": "2022-09-15T21:43:01.868507",
          "exception": false,
          "start_time": "2022-09-15T21:43:01.350803",
          "status": "completed"
        },
        "tags": [],
        "id": "6272ac07"
      },
      "outputs": [],
      "source": [
        "def filter_and_limit_dataset(dataset, max_label=35, max_samples=None):\n",
        "    filtered_images = []\n",
        "    filtered_labels = []\n",
        "\n",
        "    for img_path, label in zip(dataset.images, dataset.labels):\n",
        "        if label <= max_label:\n",
        "            filtered_images.append(img_path)\n",
        "            filtered_labels.append(label)\n",
        "            if max_samples and len(filtered_labels) >= max_samples:\n",
        "                break\n",
        "\n",
        "    dataset.images = filtered_images\n",
        "    dataset.labels = filtered_labels\n",
        "\n",
        "filter_and_limit_dataset(attacker_dataset_train, max_label=35, max_samples=10000)\n",
        "filter_and_limit_dataset(attacker_dataset_test, max_label=35, max_samples=100)\n"
      ]
    },
    {
      "cell_type": "code",
      "execution_count": 23,
      "id": "52a34ef8",
      "metadata": {
        "execution": {
          "iopub.execute_input": "2022-09-15T21:43:01.879185Z",
          "iopub.status.busy": "2022-09-15T21:43:01.878854Z",
          "iopub.status.idle": "2022-09-15T21:43:01.884015Z",
          "shell.execute_reply": "2022-09-15T21:43:01.883005Z"
        },
        "papermill": {
          "duration": 0.012726,
          "end_time": "2022-09-15T21:43:01.886086",
          "exception": false,
          "start_time": "2022-09-15T21:43:01.873360",
          "status": "completed"
        },
        "tags": [],
        "id": "52a34ef8"
      },
      "outputs": [],
      "source": [
        "attacker_loader_train = torch.utils.data.DataLoader(attacker_dataset_train, batch_size=64)\n",
        "attacker_loader_test = torch.utils.data.DataLoader(attacker_dataset_test, batch_size=64)"
      ]
    },
    {
      "cell_type": "code",
      "execution_count": 24,
      "id": "376c8780",
      "metadata": {
        "execution": {
          "iopub.execute_input": "2022-09-15T21:43:01.896927Z",
          "iopub.status.busy": "2022-09-15T21:43:01.896264Z",
          "iopub.status.idle": "2022-09-15T21:43:01.905459Z",
          "shell.execute_reply": "2022-09-15T21:43:01.904489Z"
        },
        "papermill": {
          "duration": 0.017012,
          "end_time": "2022-09-15T21:43:01.907554",
          "exception": false,
          "start_time": "2022-09-15T21:43:01.890542",
          "status": "completed"
        },
        "tags": [],
        "id": "376c8780"
      },
      "outputs": [],
      "source": [
        "def plot_images(tensors):\n",
        "    fig = plt.figure(figsize=(10, 5))\n",
        "    n_tensors = len(tensors)\n",
        "    for i in range(n_tensors):\n",
        "        ax = fig.add_subplot(1, n_tensors, i + 1)\n",
        "        img = tensors[i].squeeze(0)\n",
        "        ax.imshow(img, cmap='gray')\n",
        "        ax.axis(\"off\")\n",
        "    plt.tight_layout()\n",
        "    plt.show()\n"
      ]
    },
    {
      "cell_type": "code",
      "execution_count": 25,
      "id": "def48c97",
      "metadata": {
        "execution": {
          "iopub.execute_input": "2022-09-15T21:43:01.917583Z",
          "iopub.status.busy": "2022-09-15T21:43:01.917319Z",
          "iopub.status.idle": "2022-09-15T21:43:02.460721Z",
          "shell.execute_reply": "2022-09-15T21:43:02.459821Z"
        },
        "papermill": {
          "duration": 0.551175,
          "end_time": "2022-09-15T21:43:02.463302",
          "exception": false,
          "start_time": "2022-09-15T21:43:01.912127",
          "status": "completed"
        },
        "tags": [],
        "id": "def48c97",
        "outputId": "894583e2-87a5-4b4d-b097-f9c9a3c46d77",
        "colab": {
          "base_uri": "https://localhost:8080/",
          "height": 219
        }
      },
      "outputs": [
        {
          "output_type": "display_data",
          "data": {
            "text/plain": [
              "<Figure size 1000x500 with 5 Axes>"
            ],
            "image/png": "[encoded data removed]"
          },
          "metadata": {}
        }
      ],
      "source": [
        "def plot_data(data_loader):\n",
        "    images = []\n",
        "    for _, (data, _) in enumerate(data_loader):\n",
        "        for i in range(5):\n",
        "            images.append(data[i])\n",
        "        break\n",
        "    plot_images(images)\n",
        "\n",
        "plot_data(attacker_loader_train)\n"
      ]
    },
    {
      "cell_type": "code",
      "source": [
        "print(\"Loading DeiT model\")\n",
        "feature_extractor = AutoFeatureExtractor.from_pretrained('facebook/deit-base-patch16-224')\n",
        "deit_model = ViTForImageClassification.from_pretrained('facebook/deit-base-patch16-224')\n",
        "deit_model.eval()\n",
        "\n",
        "device = torch.device(\"cuda\" if torch.cuda.is_available() else \"cpu\")\n",
        "deit_model = deit_model.to(device)\n",
        "print(f\"Model loaded on {device}\")\n",
        "\n",
        "def classify_image_local(image_tensor):\n",
        "    try:\n",
        "        if image_tensor.dim() == 3 and image_tensor.size(0) == 1:\n",
        "            image_tensor = image_tensor.expand(3, -1, -1)\n",
        "\n",
        "        image_pil = transforms.ToPILImage()(image_tensor.cpu())\n",
        "\n",
        "        inputs = feature_extractor(images=image_pil, return_tensors=\"pt\")\n",
        "        inputs = {k: v.to(device) for k, v in inputs.items()}\n",
        "\n",
        "        with torch.no_grad():\n",
        "            outputs = deit_model(**inputs)\n",
        "            logits = outputs.logits\n",
        "            probabilities = F.softmax(logits, dim=-1)\n",
        "\n",
        "        return probabilities.squeeze().cpu().numpy()\n",
        "\n",
        "    except Exception as e:\n",
        "        print(f\"[!] Classification error: {e}\")\n",
        "        return np.zeros(1000)"
      ],
      "metadata": {
        "id": "5kPDTrb3cBNH",
        "colab": {
          "base_uri": "https://localhost:8080/"
        },
        "outputId": "5d6c06d2-281e-4752-d88f-b8a3d480c51d"
      },
      "id": "5kPDTrb3cBNH",
      "execution_count": 26,
      "outputs": [
        {
          "output_type": "stream",
          "name": "stdout",
          "text": [
            "Loading DeiT model\n"
          ]
        },
        {
          "output_type": "stream",
          "name": "stderr",
          "text": [
            "/usr/local/lib/python3.11/dist-packages/transformers/models/vit/feature_extraction_vit.py:30: FutureWarning: The class ViTFeatureExtractor is deprecated and will be removed in version 5 of Transformers. Please use ViTImageProcessor instead.\n",
            "  warnings.warn(\n"
          ]
        },
        {
          "output_type": "stream",
          "name": "stdout",
          "text": [
            "Model loaded on cpu\n"
          ]
        }
      ]
    },
    {
      "cell_type": "code",
      "execution_count": 27,
      "id": "e0fe8b7e",
      "metadata": {
        "execution": {
          "iopub.execute_input": "2022-09-15T21:43:02.484145Z",
          "iopub.status.busy": "2022-09-15T21:43:02.483808Z",
          "iopub.status.idle": "2022-09-15T21:43:02.490897Z",
          "shell.execute_reply": "2022-09-15T21:43:02.489818Z"
        },
        "papermill": {
          "duration": 0.015717,
          "end_time": "2022-09-15T21:43:02.493377",
          "exception": false,
          "start_time": "2022-09-15T21:43:02.477660",
          "status": "completed"
        },
        "tags": [],
        "id": "e0fe8b7e"
      },
      "outputs": [],
      "source": [
        "class TargetModel(torch.nn.Module):\n",
        "    def __init__(self, output_dim=1000):\n",
        "        super().__init__()\n",
        "        self.output_dim = output_dim\n",
        "\n",
        "    def forward(self, x):\n",
        "        outputs = []\n",
        "\n",
        "        for i in range(x.shape[0]):\n",
        "            img = x[i].detach().cpu()\n",
        "\n",
        "            probs_1000 = classify_image_local(img)\n",
        "\n",
        "            outputs.append(probs_1000)\n",
        "\n",
        "        return torch.tensor(np.array(outputs), dtype=torch.float32)"
      ]
    },
    {
      "cell_type": "code",
      "execution_count": 28,
      "id": "a289febb",
      "metadata": {
        "execution": {
          "iopub.execute_input": "2022-09-15T21:43:02.506643Z",
          "iopub.status.busy": "2022-09-15T21:43:02.506319Z",
          "iopub.status.idle": "2022-09-15T21:44:40.474057Z",
          "shell.execute_reply": "2022-09-15T21:44:40.473008Z"
        },
        "papermill": {
          "duration": 97.976652,
          "end_time": "2022-09-15T21:44:40.476285",
          "exception": false,
          "start_time": "2022-09-15T21:43:02.499633",
          "status": "completed"
        },
        "tags": [],
        "id": "a289febb"
      },
      "outputs": [],
      "source": [
        "def get_target_labels_local(loader, output_dim=1000):\n",
        "    target_model = TargetModel(output_dim=output_dim)\n",
        "    all_targets = []\n",
        "\n",
        "    print(\"Generating target labels\")\n",
        "    for batch_idx, (batch, _) in enumerate(loader):\n",
        "        if batch_idx % 10 == 0:\n",
        "            print(f\"Processing batch {batch_idx}/{len(loader)}\")\n",
        "\n",
        "        targets = target_model(batch)\n",
        "        all_targets.append(targets)\n",
        "\n",
        "    return torch.cat(all_targets, dim=0)"
      ]
    },
    {
      "cell_type": "code",
      "execution_count": 29,
      "id": "3d25dbdf",
      "metadata": {
        "execution": {
          "iopub.execute_input": "2022-09-15T21:44:40.488261Z",
          "iopub.status.busy": "2022-09-15T21:44:40.487393Z",
          "iopub.status.idle": "2022-09-15T21:44:40.493779Z",
          "shell.execute_reply": "2022-09-15T21:44:40.492961Z"
        },
        "papermill": {
          "duration": 0.014182,
          "end_time": "2022-09-15T21:44:40.495746",
          "exception": false,
          "start_time": "2022-09-15T21:44:40.481564",
          "status": "completed"
        },
        "tags": [],
        "id": "3d25dbdf",
        "colab": {
          "base_uri": "https://localhost:8080/"
        },
        "outputId": "d7573bc3-249f-4da7-8e7d-b399e478d765"
      },
      "outputs": [
        {
          "output_type": "stream",
          "name": "stdout",
          "text": [
            "Generating training targets\n",
            "Generating target labels\n",
            "Processing batch 0/6\n",
            "Generating test targets\n",
            "Generating target labels\n",
            "Processing batch 0/2\n",
            "Train targets shape: torch.Size([360, 1000])\n",
            "Test targets shape: torch.Size([100, 1000])\n",
            "Target labels generated and saved successfully!\n"
          ]
        }
      ],
      "source": [
        "print(\"Generating training targets\")\n",
        "attacker_targets_train = get_target_labels_local(attacker_loader_train, output_dim=1000)\n",
        "print(\"Generating test targets\")\n",
        "attacker_targets_test = get_target_labels_local(attacker_loader_test, output_dim=1000)\n",
        "\n",
        "print(f\"Train targets shape: {attacker_targets_train.shape}\")\n",
        "print(f\"Test targets shape: {attacker_targets_test.shape}\")\n",
        "\n",
        "np.savez('./labels_train.npz', attacker_targets_train.numpy())\n",
        "np.savez('./labels_test.npz', attacker_targets_test.numpy())\n",
        "\n",
        "print(\"Target labels generated and saved successfully!\")"
      ]
    },
    {
      "cell_type": "code",
      "execution_count": 30,
      "id": "cd1d6e48",
      "metadata": {
        "execution": {
          "iopub.execute_input": "2022-09-15T21:44:40.506981Z",
          "iopub.status.busy": "2022-09-15T21:44:40.506686Z",
          "iopub.status.idle": "2022-09-15T21:44:40.514706Z",
          "shell.execute_reply": "2022-09-15T21:44:40.513736Z"
        },
        "papermill": {
          "duration": 0.016083,
          "end_time": "2022-09-15T21:44:40.516654",
          "exception": false,
          "start_time": "2022-09-15T21:44:40.500571",
          "status": "completed"
        },
        "tags": [],
        "id": "cd1d6e48"
      },
      "outputs": [],
      "source": [
        "def reconstruct_samples(model):\n",
        "    images = []\n",
        "\n",
        "    batch_size = 64\n",
        "\n",
        "    for batch, (data, _) in enumerate(attacker_loader_train):\n",
        "        targets = attacker_targets_train[batch * batch_size: (batch + 1) * batch_size].float()\n",
        "\n",
        "        for i in range(2):\n",
        "            with torch.no_grad():\n",
        "                reconstructed_image = model(torch.unsqueeze(targets[i], 0).cuda()).squeeze(0)\n",
        "\n",
        "            images.append(data[i])\n",
        "            images.append(reconstructed_image.cpu())\n",
        "        break\n",
        "\n",
        "    for batch, (data, _) in enumerate(attacker_loader_test):\n",
        "        targets = attacker_targets_test[batch * batch_size: (batch + 1) * batch_size].float()\n",
        "\n",
        "        for i in range(2):\n",
        "            with torch.no_grad():\n",
        "                reconstructed_image = model(torch.unsqueeze(targets[i], 0).cuda()).squeeze(0)\n",
        "\n",
        "            images.append(data[i])\n",
        "            images.append(reconstructed_image.cpu())\n",
        "        break\n",
        "\n",
        "    plot_images(images)\n"
      ]
    },
    {
      "cell_type": "code",
      "execution_count": 31,
      "id": "ff66be22",
      "metadata": {
        "execution": {
          "iopub.execute_input": "2022-09-15T21:44:40.538028Z",
          "iopub.status.busy": "2022-09-15T21:44:40.536458Z",
          "iopub.status.idle": "2022-09-15T21:44:49.478359Z",
          "shell.execute_reply": "2022-09-15T21:44:49.476891Z"
        },
        "papermill": {
          "duration": 8.952111,
          "end_time": "2022-09-15T21:44:49.483000",
          "exception": false,
          "start_time": "2022-09-15T21:44:40.530889",
          "status": "completed"
        },
        "tags": [],
        "id": "ff66be22",
        "outputId": "ed29920d-91f2-4035-96ec-88e6bb416a26",
        "colab": {
          "base_uri": "https://localhost:8080/"
        }
      },
      "outputs": [
        {
          "output_type": "stream",
          "name": "stdout",
          "text": [
            "----------------------------------------------------------------\n",
            "        Layer (type)               Output Shape         Param #\n",
            "================================================================\n",
            "            Linear-1                  [-1, 512]         512,512\n",
            "              ReLU-2                  [-1, 512]               0\n",
            "           Dropout-3                  [-1, 512]               0\n",
            "            Linear-4                  [-1, 256]         131,328\n",
            "              ReLU-5                  [-1, 256]               0\n",
            "           Dropout-6                  [-1, 256]               0\n",
            "            Linear-7                 [-1, 2048]         526,336\n",
            "              ReLU-8                 [-1, 2048]               0\n",
            "         Unflatten-9            [-1, 8, 16, 16]               0\n",
            "  ConvTranspose2d-10            [-1, 4, 32, 32]             292\n",
            "      BatchNorm2d-11            [-1, 4, 32, 32]               8\n",
            "             ReLU-12            [-1, 4, 32, 32]               0\n",
            "  ConvTranspose2d-13            [-1, 2, 64, 64]              74\n",
            "      BatchNorm2d-14            [-1, 2, 64, 64]               4\n",
            "             ReLU-15            [-1, 2, 64, 64]               0\n",
            "  ConvTranspose2d-16            [-1, 1, 64, 64]              19\n",
            "          Sigmoid-17            [-1, 1, 64, 64]               0\n",
            "================================================================\n",
            "Total params: 1,170,573\n",
            "Trainable params: 1,170,573\n",
            "Non-trainable params: 0\n",
            "----------------------------------------------------------------\n",
            "Input size (MB): 0.00\n",
            "Forward/backward pass size (MB): 0.41\n",
            "Params size (MB): 4.47\n",
            "Estimated Total Size (MB): 4.88\n",
            "----------------------------------------------------------------\n"
          ]
        }
      ],
      "source": [
        "class AttackModel(torch.nn.Module):\n",
        "    def __init__(self):\n",
        "        super().__init__()\n",
        "\n",
        "        self.layers = torch.nn.Sequential(\n",
        "            torch.nn.Linear(1000, 512),\n",
        "            torch.nn.ReLU(),\n",
        "            torch.nn.Dropout(0.2),\n",
        "\n",
        "            torch.nn.Linear(512, 256),\n",
        "            torch.nn.ReLU(),\n",
        "            torch.nn.Dropout(0.2),\n",
        "\n",
        "            torch.nn.Linear(256, 16*16*8),\n",
        "            torch.nn.ReLU(),\n",
        "            torch.nn.Unflatten(1, (8, 16, 16)),\n",
        "\n",
        "            torch.nn.ConvTranspose2d(8, 4, 3, padding=1, stride=2, output_padding=1),\n",
        "            torch.nn.BatchNorm2d(4),\n",
        "            torch.nn.ReLU(),\n",
        "\n",
        "            torch.nn.ConvTranspose2d(4, 2, 3, padding=1, stride=2, output_padding=1),\n",
        "            torch.nn.BatchNorm2d(2),\n",
        "            torch.nn.ReLU(),\n",
        "\n",
        "            torch.nn.ConvTranspose2d(2, 1, 3, padding=1, stride=1),\n",
        "            torch.nn.Sigmoid()\n",
        "        )\n",
        "\n",
        "    def forward(self, x):\n",
        "        return self.layers(x)\n",
        "\n",
        "attacker = AttackModel()\n",
        "summary(attacker, (1000, ))"
      ]
    },
    {
      "cell_type": "code",
      "execution_count": 32,
      "id": "15b288ad",
      "metadata": {
        "execution": {
          "iopub.execute_input": "2022-09-15T21:44:49.499426Z",
          "iopub.status.busy": "2022-09-15T21:44:49.499052Z",
          "iopub.status.idle": "2022-09-15T21:44:49.507300Z",
          "shell.execute_reply": "2022-09-15T21:44:49.505770Z"
        },
        "papermill": {
          "duration": 0.018595,
          "end_time": "2022-09-15T21:44:49.509277",
          "exception": false,
          "start_time": "2022-09-15T21:44:49.490682",
          "status": "completed"
        },
        "tags": [],
        "id": "15b288ad"
      },
      "outputs": [],
      "source": [
        "def attack(attack_model):\n",
        "    images = []\n",
        "\n",
        "    for idx in range(6):\n",
        "        target_output = np.random.exponential(0.1, 1000)\n",
        "        target_output = target_output / target_output.sum()\n",
        "\n",
        "        with torch.no_grad():\n",
        "            reconstructed_image = attack_model(torch.tensor([target_output]).float().cuda()).squeeze(0)\n",
        "\n",
        "        images.append(reconstructed_image.cpu())\n",
        "\n",
        "    plot_images(images)"
      ]
    },
    {
      "cell_type": "code",
      "execution_count": 33,
      "id": "81fe5f87",
      "metadata": {
        "execution": {
          "iopub.execute_input": "2022-09-15T21:44:49.539159Z",
          "iopub.status.busy": "2022-09-15T21:44:49.538821Z",
          "iopub.status.idle": "2022-09-15T21:48:14.447792Z",
          "shell.execute_reply": "2022-09-15T21:48:14.446877Z"
        },
        "papermill": {
          "duration": 204.919317,
          "end_time": "2022-09-15T21:48:14.450046",
          "exception": false,
          "start_time": "2022-09-15T21:44:49.530729",
          "status": "completed"
        },
        "tags": [],
        "id": "81fe5f87",
        "outputId": "13312cd3-2f02-4d69-cdc2-0408686cf705",
        "colab": {
          "referenced_widgets": [
            "371c8900ed5e4eef8988578ff76a8ebc",
            "42843e9ea6b7479fb39965f20bfe60ac",
            "3fcbd874df1741ccb44ee9ce37df8206",
            "b2d16d689b1b4b7ca6e6b7a9c7a7cc40",
            "1f9118ba60a1487bb08591d0994417d0",
            "42861cc0e1c7419d8320a81146158227",
            "90b356420fad46038e09e4d6ea774662",
            "dc1ff7a310a64b61ba8f889265932ed0",
            "65327b5dee1343aab95b605bb07618d5",
            "8794f07fbeba4b77b82a57bbff1fa02a",
            "7e6dd84365df48e18c1860b8467a8e83"
          ],
          "base_uri": "https://localhost:8080/",
          "height": 1000
        }
      },
      "outputs": [
        {
          "output_type": "display_data",
          "data": {
            "text/plain": [
              "  0%|          | 0/200 [00:00<?, ?it/s]"
            ],
            "application/vnd.jupyter.widget-view+json": {
              "version_major": 2,
              "version_minor": 0,
              "model_id": "371c8900ed5e4eef8988578ff76a8ebc"
            }
          },
          "metadata": {}
        },
        {
          "output_type": "stream",
          "name": "stdout",
          "text": [
            "Epoch 0, Loss: 0.0649\n",
            "Epoch 1, Loss: 0.0593\n",
            "Epoch 2, Loss: 0.0566\n",
            "Epoch 3, Loss: 0.0544\n",
            "Epoch 4, Loss: 0.0523\n",
            "Epoch 5, Loss: 0.0500\n",
            "Epoch 6, Loss: 0.0475\n",
            "Epoch 7, Loss: 0.0452\n",
            "Epoch 8, Loss: 0.0434\n",
            "Epoch 9, Loss: 0.0423\n",
            "Epoch 10, Loss: 0.0415\n",
            "Epoch 11, Loss: 0.0410\n",
            "Epoch 12, Loss: 0.0405\n",
            "Epoch 13, Loss: 0.0401\n",
            "Epoch 14, Loss: 0.0397\n",
            "Epoch 15, Loss: 0.0392\n",
            "Epoch 16, Loss: 0.0389\n",
            "Epoch 17, Loss: 0.0385\n",
            "Epoch 18, Loss: 0.0382\n",
            "Epoch 19, Loss: 0.0378\n",
            "Epoch 20, Loss: 0.0375\n",
            "Epoch 21, Loss: 0.0372\n",
            "Epoch 22, Loss: 0.0370\n",
            "Epoch 23, Loss: 0.0368\n",
            "Epoch 24, Loss: 0.0366\n",
            "Epoch 25, Loss: 0.0363\n",
            "Epoch 26, Loss: 0.0361\n",
            "Epoch 27, Loss: 0.0359\n",
            "Epoch 28, Loss: 0.0357\n",
            "Epoch 29, Loss: 0.0356\n",
            "Epoch 30, Loss: 0.0353\n",
            "Epoch 31, Loss: 0.0352\n",
            "Epoch 32, Loss: 0.0350\n",
            "Epoch 33, Loss: 0.0349\n",
            "Epoch 34, Loss: 0.0348\n",
            "Epoch 35, Loss: 0.0346\n",
            "Epoch 36, Loss: 0.0344\n",
            "Epoch 37, Loss: 0.0343\n",
            "Epoch 38, Loss: 0.0343\n",
            "Epoch 39, Loss: 0.0341\n",
            "Epoch 40, Loss: 0.0340\n",
            "Epoch 41, Loss: 0.0339\n",
            "Epoch 42, Loss: 0.0338\n",
            "Epoch 43, Loss: 0.0337\n",
            "Epoch 44, Loss: 0.0336\n",
            "Epoch 45, Loss: 0.0335\n",
            "Epoch 46, Loss: 0.0335\n",
            "Epoch 47, Loss: 0.0335\n",
            "Epoch 48, Loss: 0.0333\n",
            "Epoch 49, Loss: 0.0332\n",
            "Epoch 50, Loss: 0.0330\n",
            "Epoch 51, Loss: 0.0329\n",
            "Epoch 52, Loss: 0.0329\n",
            "Epoch 53, Loss: 0.0329\n",
            "Epoch 54, Loss: 0.0329\n",
            "Epoch 55, Loss: 0.0328\n",
            "Epoch 56, Loss: 0.0328\n",
            "Epoch 57, Loss: 0.0327\n",
            "Epoch 58, Loss: 0.0327\n",
            "Epoch 59, Loss: 0.0327\n",
            "Epoch 60, Loss: 0.0327\n",
            "Epoch 61, Loss: 0.0326\n",
            "Epoch 62, Loss: 0.0327\n",
            "Epoch 63, Loss: 0.0326\n",
            "Epoch 64, Loss: 0.0326\n",
            "Epoch 65, Loss: 0.0325\n",
            "Epoch 66, Loss: 0.0325\n",
            "Epoch 67, Loss: 0.0325\n",
            "Epoch 68, Loss: 0.0325\n",
            "Epoch 69, Loss: 0.0325\n",
            "Epoch 70, Loss: 0.0325\n",
            "Epoch 71, Loss: 0.0324\n",
            "Epoch 72, Loss: 0.0324\n",
            "Epoch 73, Loss: 0.0324\n",
            "Epoch 74, Loss: 0.0324\n",
            "Epoch 75, Loss: 0.0324\n",
            "Epoch 76, Loss: 0.0323\n",
            "Epoch 77, Loss: 0.0323\n",
            "Epoch 78, Loss: 0.0323\n",
            "Epoch 79, Loss: 0.0323\n",
            "Epoch 80, Loss: 0.0323\n",
            "Epoch 81, Loss: 0.0323\n",
            "Epoch 82, Loss: 0.0323\n",
            "Epoch 83, Loss: 0.0322\n",
            "Epoch 84, Loss: 0.0322\n",
            "Epoch 85, Loss: 0.0322\n",
            "Epoch 86, Loss: 0.0322\n",
            "Epoch 87, Loss: 0.0322\n",
            "Epoch 88, Loss: 0.0321\n",
            "Epoch 89, Loss: 0.0321\n",
            "Epoch 90, Loss: 0.0322\n",
            "Epoch 91, Loss: 0.0321\n",
            "Epoch 92, Loss: 0.0321\n",
            "Epoch 93, Loss: 0.0321\n",
            "Epoch 94, Loss: 0.0321\n",
            "Epoch 95, Loss: 0.0321\n",
            "Epoch 96, Loss: 0.0321\n",
            "Epoch 97, Loss: 0.0321\n",
            "Epoch 98, Loss: 0.0320\n",
            "Epoch 99, Loss: 0.0320\n",
            "Epoch 100, Loss: 0.0319\n",
            "Epoch 101, Loss: 0.0319\n",
            "Epoch 102, Loss: 0.0319\n",
            "Epoch 103, Loss: 0.0320\n",
            "Epoch 104, Loss: 0.0319\n",
            "Epoch 105, Loss: 0.0319\n",
            "Epoch 106, Loss: 0.0319\n",
            "Epoch 107, Loss: 0.0319\n",
            "Epoch 108, Loss: 0.0319\n",
            "Epoch 109, Loss: 0.0318\n",
            "Epoch 110, Loss: 0.0318\n",
            "Epoch 111, Loss: 0.0318\n",
            "Epoch 112, Loss: 0.0319\n",
            "Epoch 113, Loss: 0.0319\n",
            "Epoch 114, Loss: 0.0318\n",
            "Epoch 115, Loss: 0.0318\n",
            "Epoch 116, Loss: 0.0319\n",
            "Epoch 117, Loss: 0.0319\n",
            "Epoch 118, Loss: 0.0318\n",
            "Epoch 119, Loss: 0.0319\n",
            "Epoch 120, Loss: 0.0318\n",
            "Epoch 121, Loss: 0.0318\n",
            "Epoch 122, Loss: 0.0318\n",
            "Epoch 123, Loss: 0.0317\n",
            "Epoch 124, Loss: 0.0318\n",
            "Epoch 125, Loss: 0.0317\n",
            "Epoch 126, Loss: 0.0318\n",
            "Epoch 127, Loss: 0.0317\n",
            "Epoch 128, Loss: 0.0318\n",
            "Epoch 129, Loss: 0.0318\n",
            "Epoch 130, Loss: 0.0318\n",
            "Epoch 131, Loss: 0.0317\n",
            "Epoch 132, Loss: 0.0317\n",
            "Epoch 133, Loss: 0.0317\n",
            "Epoch 134, Loss: 0.0317\n",
            "Epoch 135, Loss: 0.0317\n",
            "Epoch 136, Loss: 0.0318\n",
            "Epoch 137, Loss: 0.0317\n",
            "Epoch 138, Loss: 0.0317\n",
            "Epoch 139, Loss: 0.0317\n",
            "Epoch 140, Loss: 0.0317\n",
            "Epoch 141, Loss: 0.0317\n",
            "Epoch 142, Loss: 0.0317\n",
            "Epoch 143, Loss: 0.0317\n",
            "Epoch 144, Loss: 0.0316\n",
            "Epoch 145, Loss: 0.0317\n",
            "Epoch 146, Loss: 0.0316\n",
            "Epoch 147, Loss: 0.0317\n",
            "Epoch 148, Loss: 0.0316\n",
            "Epoch 149, Loss: 0.0317\n",
            "Epoch 150, Loss: 0.0315\n",
            "Epoch 151, Loss: 0.0315\n",
            "Epoch 152, Loss: 0.0316\n",
            "Epoch 153, Loss: 0.0316\n",
            "Epoch 154, Loss: 0.0316\n",
            "Epoch 155, Loss: 0.0315\n",
            "Epoch 156, Loss: 0.0315\n",
            "Epoch 157, Loss: 0.0316\n",
            "Epoch 158, Loss: 0.0316\n",
            "Epoch 159, Loss: 0.0315\n",
            "Epoch 160, Loss: 0.0315\n",
            "Epoch 161, Loss: 0.0316\n",
            "Epoch 162, Loss: 0.0315\n",
            "Epoch 163, Loss: 0.0315\n",
            "Epoch 164, Loss: 0.0315\n",
            "Epoch 165, Loss: 0.0315\n",
            "Epoch 166, Loss: 0.0315\n",
            "Epoch 167, Loss: 0.0315\n",
            "Epoch 168, Loss: 0.0315\n",
            "Epoch 169, Loss: 0.0314\n",
            "Epoch 170, Loss: 0.0314\n",
            "Epoch 171, Loss: 0.0315\n",
            "Epoch 172, Loss: 0.0314\n",
            "Epoch 173, Loss: 0.0314\n",
            "Epoch 174, Loss: 0.0315\n",
            "Epoch 175, Loss: 0.0314\n",
            "Epoch 176, Loss: 0.0314\n",
            "Epoch 177, Loss: 0.0314\n",
            "Epoch 178, Loss: 0.0314\n",
            "Epoch 179, Loss: 0.0313\n",
            "Epoch 180, Loss: 0.0313\n",
            "Epoch 181, Loss: 0.0313\n",
            "Epoch 182, Loss: 0.0313\n",
            "Epoch 183, Loss: 0.0312\n",
            "Epoch 184, Loss: 0.0313\n",
            "Epoch 185, Loss: 0.0312\n",
            "Epoch 186, Loss: 0.0312\n",
            "Epoch 187, Loss: 0.0312\n",
            "Epoch 188, Loss: 0.0311\n",
            "Epoch 189, Loss: 0.0311\n",
            "Epoch 190, Loss: 0.0311\n",
            "Epoch 191, Loss: 0.0311\n",
            "Epoch 192, Loss: 0.0311\n",
            "Epoch 193, Loss: 0.0311\n",
            "Epoch 194, Loss: 0.0310\n",
            "Epoch 195, Loss: 0.0310\n",
            "Epoch 196, Loss: 0.0310\n",
            "Epoch 197, Loss: 0.0309\n",
            "Epoch 198, Loss: 0.0309\n",
            "Epoch 199, Loss: 0.0309\n",
            "Finished Training\n"
          ]
        }
      ],
      "source": [
        "torch.manual_seed(0)\n",
        "\n",
        "device = torch.device(\"cuda\" if torch.cuda.is_available() else \"cpu\")\n",
        "\n",
        "attacker = AttackModel().to(device)\n",
        "\n",
        "hyperparams = namedtuple('hyperparams', 'batch_size,epochs,learning_rate')\n",
        "\n",
        "attacker_hyperparams = hyperparams(\n",
        "    batch_size=64,\n",
        "    epochs=200,\n",
        "    learning_rate=1e-3,\n",
        ")\n",
        "\n",
        "attacker_loader_train = torch.utils.data.DataLoader(attacker_dataset_train, batch_size=attacker_hyperparams.batch_size)\n",
        "attack_optim = torch.optim.Adam(attacker.parameters(), lr=attacker_hyperparams.learning_rate, weight_decay=1e-4)\n",
        "scheduler = StepLR(attack_optim, step_size=50, gamma=0.5)\n",
        "\n",
        "for epoch in trange(attacker_hyperparams.epochs):\n",
        "    epoch_loss = 0.0\n",
        "\n",
        "    for batch, (data, _) in enumerate(attacker_loader_train):\n",
        "        data = data.float().to(device)\n",
        "\n",
        "        if torch.cuda.is_available() and not (epoch % 20) and not batch:\n",
        "            reconstruct_samples(attacker)\n",
        "            attack(attacker)\n",
        "\n",
        "        targets = attacker_targets_train[\n",
        "            batch * attacker_hyperparams.batch_size :\n",
        "            (batch + 1) * attacker_hyperparams.batch_size\n",
        "        ].float().to(device)\n",
        "\n",
        "        attack_optim.zero_grad()\n",
        "        output = attacker(targets)\n",
        "\n",
        "        mse_loss = ((output - data)**2).mean()\n",
        "        l1_loss = torch.abs(output - data).mean()\n",
        "        loss = mse_loss + 0.1 * l1_loss\n",
        "\n",
        "        loss.backward()\n",
        "        attack_optim.step()\n",
        "        epoch_loss += output.shape[0] * loss.item()\n",
        "\n",
        "    print(f\"Epoch {epoch}, Loss: {epoch_loss / len(attacker_dataset_train):.4f}\")\n",
        "    scheduler.step()\n",
        "\n",
        "print('Finished Training')\n",
        "\n",
        "if torch.cuda.is_available():\n",
        "    attack(attacker)"
      ]
    },
    {
      "cell_type": "code",
      "source": [
        "def reconstruct_samples(model):\n",
        "    images = []\n",
        "\n",
        "    device = torch.device(\"cuda\" if torch.cuda.is_available() else \"cpu\")\n",
        "    model = model.to(device)\n",
        "\n",
        "    batch_size = 64\n",
        "\n",
        "    for batch, (data, _) in enumerate(attacker_loader_train):\n",
        "        targets = attacker_targets_train[batch * batch_size: (batch + 1) * batch_size].float().to(device)\n",
        "\n",
        "        for i in range(2):\n",
        "            with torch.no_grad():\n",
        "                reconstructed_image = model(torch.unsqueeze(targets[i], 0)).squeeze(0)\n",
        "\n",
        "            images.append(data[i])\n",
        "            images.append(reconstructed_image.cpu())\n",
        "        break\n",
        "\n",
        "    for batch, (data, _) in enumerate(attacker_loader_test):\n",
        "        targets = attacker_targets_test[batch * batch_size: (batch + 1) * batch_size].float().to(device)\n",
        "\n",
        "        for i in range(2):\n",
        "            with torch.no_grad():\n",
        "                reconstructed_image = model(torch.unsqueeze(targets[i], 0)).squeeze(0)\n",
        "\n",
        "            images.append(data[i])\n",
        "            images.append(reconstructed_image.cpu())\n",
        "        break\n",
        "\n",
        "    plot_images(images)"
      ],
      "metadata": {
        "id": "IyD1_tZgkKCo"
      },
      "id": "IyD1_tZgkKCo",
      "execution_count": 34,
      "outputs": []
    },
    {
      "cell_type": "code",
      "source": [
        "reconstruct_samples(attacker)\n"
      ],
      "metadata": {
        "colab": {
          "base_uri": "https://localhost:8080/",
          "height": 145
        },
        "id": "9QKYoE4Bllad",
        "outputId": "815cbdaf-7fc8-4f39-c27b-21e11a99bd69"
      },
      "id": "9QKYoE4Bllad",
      "execution_count": 35,
      "outputs": [
        {
          "output_type": "display_data",
          "data": {
            "text/plain": [
              "<Figure size 1000x500 with 8 Axes>"
            ],
            "image/png": "[encoded data removed]"
          },
          "metadata": {}
        }
      ]
    },
    {
      "cell_type": "code",
      "source": [
        "from skimage.metrics import structural_similarity as ssim\n",
        "from skimage.metrics import peak_signal_noise_ratio as psnr\n",
        "\n",
        "def evaluate_reconstruction(model):\n",
        "    model.eval()\n",
        "    total_ssim = 0\n",
        "    total_psnr = 0\n",
        "    count = 0\n",
        "\n",
        "    for batch, (data, _) in enumerate(attacker_loader_test):\n",
        "        targets = attacker_targets_test[batch * 64: (batch + 1) * 64].float().to(device)\n",
        "        data = data.to(device)\n",
        "\n",
        "        with torch.no_grad():\n",
        "            output = model(targets)\n",
        "\n",
        "        for i in range(output.shape[0]):\n",
        "            real = data[i].squeeze().cpu().numpy()\n",
        "            recon = output[i].squeeze().cpu().numpy()\n",
        "            total_ssim += ssim(real, recon, data_range=1.0)\n",
        "            total_psnr += psnr(real, recon, data_range=1.0)\n",
        "            count += 1\n",
        "\n",
        "    print(f\"Average SSIM: {total_ssim / count:.4f}\")\n",
        "    print(f\"Average PSNR: {total_psnr / count:.2f} dB\")\n",
        "\n",
        "evaluate_reconstruction(attacker)\n"
      ],
      "metadata": {
        "colab": {
          "base_uri": "https://localhost:8080/"
        },
        "id": "BzzxU14NSxaE",
        "outputId": "ee78e82a-2423-4ca6-bdf6-11a3f215addd"
      },
      "id": "BzzxU14NSxaE",
      "execution_count": 36,
      "outputs": [
        {
          "output_type": "stream",
          "name": "stdout",
          "text": [
            "Average SSIM: 0.3532\n",
            "Average PSNR: 16.82 dB\n"
          ]
        }
      ]
    }
  ],
  "metadata": {
    "kernelspec": {
      "display_name": ".venv",
      "language": "python",
      "name": "python3"
    },
    "language_info": {
      "codemirror_mode": {
        "name": "ipython",
        "version": 3
      },
      "file_extension": ".py",
      "mimetype": "text/x-python",
      "name": "python",
      "nbconvert_exporter": "python",
      "pygments_lexer": "ipython3",
      "version": "3.11.2"
    },
    "papermill": {
      "default_parameters": {},
      "duration": 359.486738,
      "end_time": "2022-09-15T21:48:16.242607",
      "environment_variables": {},
      "exception": null,
      "input_path": "__notebook__.ipynb",
      "output_path": "__notebook__.ipynb",
      "parameters": {},
      "start_time": "2022-09-15T21:42:16.755869",
      "version": "2.3.4"
    },
    "colab": {
      "provenance": []
    },
    "widgets": {
      "application/vnd.jupyter.widget-state+json": {
        "371c8900ed5e4eef8988578ff76a8ebc": {
          "model_module": "@jupyter-widgets/controls",
          "model_name": "HBoxModel",
          "model_module_version": "1.5.0",
          "state": {
            "_dom_classes": [],
            "_model_module": "@jupyter-widgets/controls",
            "_model_module_version": "1.5.0",
            "_model_name": "HBoxModel",
            "_view_count": null,
            "_view_module": "@jupyter-widgets/controls",
            "_view_module_version": "1.5.0",
            "_view_name": "HBoxView",
            "box_style": "",
            "children": [
              "IPY_MODEL_42843e9ea6b7479fb39965f20bfe60ac",
              "IPY_MODEL_3fcbd874df1741ccb44ee9ce37df8206",
              "IPY_MODEL_b2d16d689b1b4b7ca6e6b7a9c7a7cc40"
            ],
            "layout": "IPY_MODEL_1f9118ba60a1487bb08591d0994417d0"
          }
        },
        "42843e9ea6b7479fb39965f20bfe60ac": {
          "model_module": "@jupyter-widgets/controls",
          "model_name": "HTMLModel",
          "model_module_version": "1.5.0",
          "state": {
            "_dom_classes": [],
            "_model_module": "@jupyter-widgets/controls",
            "_model_module_version": "1.5.0",
            "_model_name": "HTMLModel",
            "_view_count": null,
            "_view_module": "@jupyter-widgets/controls",
            "_view_module_version": "1.5.0",
            "_view_name": "HTMLView",
            "description": "",
            "description_tooltip": null,
            "layout": "IPY_MODEL_42861cc0e1c7419d8320a81146158227",
            "placeholder": "​",
            "style": "IPY_MODEL_90b356420fad46038e09e4d6ea774662",
            "value": "100%"
          }
        },
        "3fcbd874df1741ccb44ee9ce37df8206": {
          "model_module": "@jupyter-widgets/controls",
          "model_name": "FloatProgressModel",
          "model_module_version": "1.5.0",
          "state": {
            "_dom_classes": [],
            "_model_module": "@jupyter-widgets/controls",
            "_model_module_version": "1.5.0",
            "_model_name": "FloatProgressModel",
            "_view_count": null,
            "_view_module": "@jupyter-widgets/controls",
            "_view_module_version": "1.5.0",
            "_view_name": "ProgressView",
            "bar_style": "success",
            "description": "",
            "description_tooltip": null,
            "layout": "IPY_MODEL_dc1ff7a310a64b61ba8f889265932ed0",
            "max": 200,
            "min": 0,
            "orientation": "horizontal",
            "style": "IPY_MODEL_65327b5dee1343aab95b605bb07618d5",
            "value": 200
          }
        },
        "b2d16d689b1b4b7ca6e6b7a9c7a7cc40": {
          "model_module": "@jupyter-widgets/controls",
          "model_name": "HTMLModel",
          "model_module_version": "1.5.0",
          "state": {
            "_dom_classes": [],
            "_model_module": "@jupyter-widgets/controls",
            "_model_module_version": "1.5.0",
            "_model_name": "HTMLModel",
            "_view_count": null,
            "_view_module": "@jupyter-widgets/controls",
            "_view_module_version": "1.5.0",
            "_view_name": "HTMLView",
            "description": "",
            "description_tooltip": null,
            "layout": "IPY_MODEL_8794f07fbeba4b77b82a57bbff1fa02a",
            "placeholder": "​",
            "style": "IPY_MODEL_7e6dd84365df48e18c1860b8467a8e83",
            "value": " 200/200 [02:56&lt;00:00,  1.15it/s]"
          }
        },
        "1f9118ba60a1487bb08591d0994417d0": {
          "model_module": "@jupyter-widgets/base",
          "model_name": "LayoutModel",
          "model_module_version": "1.2.0",
          "state": {
            "_model_module": "@jupyter-widgets/base",
            "_model_module_version": "1.2.0",
            "_model_name": "LayoutModel",
            "_view_count": null,
            "_view_module": "@jupyter-widgets/base",
            "_view_module_version": "1.2.0",
            "_view_name": "LayoutView",
            "align_content": null,
            "align_items": null,
            "align_self": null,
            "border": null,
            "bottom": null,
            "display": null,
            "flex": null,
            "flex_flow": null,
            "grid_area": null,
            "grid_auto_columns": null,
            "grid_auto_flow": null,
            "grid_auto_rows": null,
            "grid_column": null,
            "grid_gap": null,
            "grid_row": null,
            "grid_template_areas": null,
            "grid_template_columns": null,
            "grid_template_rows": null,
            "height": null,
            "justify_content": null,
            "justify_items": null,
            "left": null,
            "margin": null,
            "max_height": null,
            "max_width": null,
            "min_height": null,
            "min_width": null,
            "object_fit": null,
            "object_position": null,
            "order": null,
            "overflow": null,
            "overflow_x": null,
            "overflow_y": null,
            "padding": null,
            "right": null,
            "top": null,
            "visibility": null,
            "width": null
          }
        },
        "42861cc0e1c7419d8320a81146158227": {
          "model_module": "@jupyter-widgets/base",
          "model_name": "LayoutModel",
          "model_module_version": "1.2.0",
          "state": {
            "_model_module": "@jupyter-widgets/base",
            "_model_module_version": "1.2.0",
            "_model_name": "LayoutModel",
            "_view_count": null,
            "_view_module": "@jupyter-widgets/base",
            "_view_module_version": "1.2.0",
            "_view_name": "LayoutView",
            "align_content": null,
            "align_items": null,
            "align_self": null,
            "border": null,
            "bottom": null,
            "display": null,
            "flex": null,
            "flex_flow": null,
            "grid_area": null,
            "grid_auto_columns": null,
            "grid_auto_flow": null,
            "grid_auto_rows": null,
            "grid_column": null,
            "grid_gap": null,
            "grid_row": null,
            "grid_template_areas": null,
            "grid_template_columns": null,
            "grid_template_rows": null,
            "height": null,
            "justify_content": null,
            "justify_items": null,
            "left": null,
            "margin": null,
            "max_height": null,
            "max_width": null,
            "min_height": null,
            "min_width": null,
            "object_fit": null,
            "object_position": null,
            "order": null,
            "overflow": null,
            "overflow_x": null,
            "overflow_y": null,
            "padding": null,
            "right": null,
            "top": null,
            "visibility": null,
            "width": null
          }
        },
        "90b356420fad46038e09e4d6ea774662": {
          "model_module": "@jupyter-widgets/controls",
          "model_name": "DescriptionStyleModel",
          "model_module_version": "1.5.0",
          "state": {
            "_model_module": "@jupyter-widgets/controls",
            "_model_module_version": "1.5.0",
            "_model_name": "DescriptionStyleModel",
            "_view_count": null,
            "_view_module": "@jupyter-widgets/base",
            "_view_module_version": "1.2.0",
            "_view_name": "StyleView",
            "description_width": ""
          }
        },
        "dc1ff7a310a64b61ba8f889265932ed0": {
          "model_module": "@jupyter-widgets/base",
          "model_name": "LayoutModel",
          "model_module_version": "1.2.0",
          "state": {
            "_model_module": "@jupyter-widgets/base",
            "_model_module_version": "1.2.0",
            "_model_name": "LayoutModel",
            "_view_count": null,
            "_view_module": "@jupyter-widgets/base",
            "_view_module_version": "1.2.0",
            "_view_name": "LayoutView",
            "align_content": null,
            "align_items": null,
            "align_self": null,
            "border": null,
            "bottom": null,
            "display": null,
            "flex": null,
            "flex_flow": null,
            "grid_area": null,
            "grid_auto_columns": null,
            "grid_auto_flow": null,
            "grid_auto_rows": null,
            "grid_column": null,
            "grid_gap": null,
            "grid_row": null,
            "grid_template_areas": null,
            "grid_template_columns": null,
            "grid_template_rows": null,
            "height": null,
            "justify_content": null,
            "justify_items": null,
            "left": null,
            "margin": null,
            "max_height": null,
            "max_width": null,
            "min_height": null,
            "min_width": null,
            "object_fit": null,
            "object_position": null,
            "order": null,
            "overflow": null,
            "overflow_x": null,
            "overflow_y": null,
            "padding": null,
            "right": null,
            "top": null,
            "visibility": null,
            "width": null
          }
        },
        "65327b5dee1343aab95b605bb07618d5": {
          "model_module": "@jupyter-widgets/controls",
          "model_name": "ProgressStyleModel",
          "model_module_version": "1.5.0",
          "state": {
            "_model_module": "@jupyter-widgets/controls",
            "_model_module_version": "1.5.0",
            "_model_name": "ProgressStyleModel",
            "_view_count": null,
            "_view_module": "@jupyter-widgets/base",
            "_view_module_version": "1.2.0",
            "_view_name": "StyleView",
            "bar_color": null,
            "description_width": ""
          }
        },
        "8794f07fbeba4b77b82a57bbff1fa02a": {
          "model_module": "@jupyter-widgets/base",
          "model_name": "LayoutModel",
          "model_module_version": "1.2.0",
          "state": {
            "_model_module": "@jupyter-widgets/base",
            "_model_module_version": "1.2.0",
            "_model_name": "LayoutModel",
            "_view_count": null,
            "_view_module": "@jupyter-widgets/base",
            "_view_module_version": "1.2.0",
            "_view_name": "LayoutView",
            "align_content": null,
            "align_items": null,
            "align_self": null,
            "border": null,
            "bottom": null,
            "display": null,
            "flex": null,
            "flex_flow": null,
            "grid_area": null,
            "grid_auto_columns": null,
            "grid_auto_flow": null,
            "grid_auto_rows": null,
            "grid_column": null,
            "grid_gap": null,
            "grid_row": null,
            "grid_template_areas": null,
            "grid_template_columns": null,
            "grid_template_rows": null,
            "height": null,
            "justify_content": null,
            "justify_items": null,
            "left": null,
            "margin": null,
            "max_height": null,
            "max_width": null,
            "min_height": null,
            "min_width": null,
            "object_fit": null,
            "object_position": null,
            "order": null,
            "overflow": null,
            "overflow_x": null,
            "overflow_y": null,
            "padding": null,
            "right": null,
            "top": null,
            "visibility": null,
            "width": null
          }
        },
        "7e6dd84365df48e18c1860b8467a8e83": {
          "model_module": "@jupyter-widgets/controls",
          "model_name": "DescriptionStyleModel",
          "model_module_version": "1.5.0",
          "state": {
            "_model_module": "@jupyter-widgets/controls",
            "_model_module_version": "1.5.0",
            "_model_name": "DescriptionStyleModel",
            "_view_count": null,
            "_view_module": "@jupyter-widgets/base",
            "_view_module_version": "1.2.0",
            "_view_name": "StyleView",
            "description_width": ""
          }
        }
      }
    }
  },
  "nbformat": 4,
  "nbformat_minor": 5
}